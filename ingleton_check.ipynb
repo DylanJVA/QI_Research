{
 "cells": [
  {
   "cell_type": "markdown",
   "metadata": {},
   "source": [
    "Checking ingletons inequality for the W state on 6 qubits"
   ]
  },
  {
   "cell_type": "code",
   "execution_count": 1,
   "metadata": {},
   "outputs": [
    {
     "name": "stdout",
     "output_type": "stream",
     "text": [
      "W state: 0.408|100000> + 0.408|010000> + 0.408|001000> + 0.408|000100> + 0.408|000010> + 0.408|000001>\n",
      "Average failure saturation of ingletons inequality: []\n"
     ]
    }
   ],
   "source": [
    "from QIP import *\n",
    "n=6\n",
    "W_state_dict = {}\n",
    "for i in range(n):\n",
    "    bitstring = \"0\"*n\n",
    "    bitstring = bitstring[:i] + '1' + bitstring[i+1:]\n",
    "    W_state_dict[bitstring] = 1/n**.5\n",
    "W_state = QCircuit(6,initial_state=bitstrings_to_vector(W_state_dict))\n",
    "W_state.subsysem_analysis()\n",
    "print(\"W state: \"+state_as_string(W_state_dict))\n",
    "# prints an empty list if ingletons never fails\n",
    "print(\"Average failure saturation of ingletons inequality: \"+str(W_state.ing[\"avg_fail_saturation\"]))"
   ]
  },
  {
   "cell_type": "markdown",
   "metadata": {},
   "source": [
    "Checking Ingleton on the state $\\ket{\\psi}=\\frac{1}{4}(\\ket{0000}+\\ket{1111}+\\ket{1010}+\\ket{1001})$"
   ]
  },
  {
   "cell_type": "code",
   "execution_count": 2,
   "metadata": {},
   "outputs": [
    {
     "name": "stdout",
     "output_type": "stream",
     "text": [
      "Average failure saturation of ingletons inequality: []\n"
     ]
    }
   ],
   "source": [
    "state_dict = {}\n",
    "state_dict['0000']=1/4\n",
    "state_dict['1111']=1/4\n",
    "state_dict['1010']=1/4\n",
    "state_dict['1001']=1/4\n",
    "ing_test = QCircuit(4,initial_state=bitstrings_to_vector(state_dict))\n",
    "ing_test.subsysem_analysis()\n",
    "print(\"Average failure saturation of ingletons inequality: \"+str(ing_test.ing[\"avg_fail_saturation\"]))"
   ]
  },
  {
   "cell_type": "markdown",
   "metadata": {},
   "source": [
    "Checking Ingleton using $\\rho=\\frac{1}{2}\\ket{\\psi}\\bra{\\psi}+\\frac{1}{4}\\ket{1010}\\bra{1010}+\\frac{1}{4}\\ket{1001}\\bra{1001}$, where $\\ket{\\psi}=\\frac{1}{\\sqrt{2}}(\\ket{0000}+\\bra{1111})$"
   ]
  },
  {
   "cell_type": "code",
   "execution_count": 3,
   "metadata": {},
   "outputs": [
    {
     "name": "stdout",
     "output_type": "stream",
     "text": [
      "Average failure saturation of ingletons inequality: []\n"
     ]
    }
   ],
   "source": [
    "psi_dict = {}\n",
    "psi_dict[\"0000\"]=1/2**.5\n",
    "psi_dict[\"1111\"]=1/2**.5\n",
    "psi_vec = bitstrings_to_vector(psi_dict)\n",
    "psi_vec.shape=(2**4,1)\n",
    "vec1 = bitstrings_to_vector(\"1010\")\n",
    "vec1.shape=(2**4,1)\n",
    "vec2 = bitstrings_to_vector(\"1001\")\n",
    "vec2.shape=(2**4,1)\n",
    "rho = 0.5*np.outer(psi_vec,psi_vec.conj().T)+0.25*np.outer(vec1,vec1.conj().T)+0.25*np.outer(vec2,vec2.conj().T)\n",
    "\n",
    "ing_test = QCircuit(4)\n",
    "ing_test.density_matrix=rho\n",
    "ing_test.subsysem_analysis()\n",
    "print(\"Average failure saturation of ingletons inequality: \"+str(ing_test.ing[\"avg_fail_saturation\"]))"
   ]
  }
 ],
 "metadata": {
  "kernelspec": {
   "display_name": ".venv",
   "language": "python",
   "name": "python3"
  },
  "language_info": {
   "codemirror_mode": {
    "name": "ipython",
    "version": 3
   },
   "file_extension": ".py",
   "mimetype": "text/x-python",
   "name": "python",
   "nbconvert_exporter": "python",
   "pygments_lexer": "ipython3",
   "version": "3.10.12"
  }
 },
 "nbformat": 4,
 "nbformat_minor": 2
}
