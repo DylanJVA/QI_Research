{
 "cells": [
  {
   "cell_type": "code",
   "execution_count": null,
   "metadata": {},
   "outputs": [],
   "source": []
  },
  {
   "cell_type": "code",
   "execution_count": null,
   "metadata": {},
   "outputs": [],
   "source": [
    "from bqskit import *\n",
    "from qiskit import *\n",
    "from QIP import *\n",
    "import numpy as np\n",
    "\n",
    "\n",
    "# construct rho that fails ingleton\n",
    "psi_dict = {}\n",
    "psi_dict[\"0000\"]=1/2**.5\n",
    "psi_dict[\"1111\"]=1/2**.5\n",
    "psi_vec = bitstrings_to_vector(psi_dict)\n",
    "psi_vec.shape=(2**4,1)\n",
    "vec1 = bitstrings_to_vector(\"1010\")\n",
    "vec1.shape=(2**4,1)\n",
    "vec2 = bitstrings_to_vector(\"1001\")\n",
    "vec2.shape=(2**4,1)\n",
    "rho = 0.5*np.outer(psi_vec,psi_vec.conj())+0.25*np.outer(vec1,vec1.conj())+0.25*np.outer(vec2,vec2.conj())\n",
    "\n",
    "# from rho construct the pure state \n",
    "def purify(rho):\n",
    "    eigvals, eigvecs = np.linalg.eig(rho)\n",
    "    dim = len(eigvecs)\n",
    "    sum = 0.\n",
    "    for i in range(dim):\n",
    "        sum = sum + np.sqrt(eigvals[i])*np.kron(eigvecs[:,i],eigvecs[:,i])\n",
    "    return sum\n",
    "\n",
    "psi = np.outer(purify(rho),purify(rho).conj())\n",
    "\n",
    "# get the unitary that takes |0> to rho ... is this possible?\n"
   ]
  },
  {
   "cell_type": "code",
   "execution_count": null,
   "metadata": {},
   "outputs": [],
   "source": []
  }
 ],
 "metadata": {
  "kernelspec": {
   "display_name": ".venv",
   "language": "python",
   "name": "python3"
  },
  "language_info": {
   "name": "python",
   "version": "3.10.12"
  }
 },
 "nbformat": 4,
 "nbformat_minor": 2
}
